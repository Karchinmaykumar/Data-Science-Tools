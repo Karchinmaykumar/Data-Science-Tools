{
 "cells": [
  {
   "cell_type": "markdown",
   "id": "b2b67374",
   "metadata": {},
   "source": [
    "# Data Science Tools And Ecosystem"
   ]
  },
  {
   "cell_type": "markdown",
   "id": "35d578b8",
   "metadata": {},
   "source": [
    "# Data Science Tools And Ecosystem"
   ]
  },
  {
   "cell_type": "markdown",
   "id": "c8ddd523",
   "metadata": {},
   "source": [
    "## OBJECTIVE\n",
    "- list of popular languages\n",
    "- list of commonly used libraries\n",
    "- open source tools used in data science\n",
    "  "
   ]
  },
  {
   "cell_type": "markdown",
   "id": "7f5480a4",
   "metadata": {},
   "source": [
    "### Some of the popular languages that Data Scientists use are:\n",
    "1. Python\n",
    "2. R\n",
    "3. Java\n",
    "4. Scala\n",
    "5. Julia"
   ]
  },
  {
   "cell_type": "markdown",
   "id": "045f2e38",
   "metadata": {},
   "source": [
    "### Some of the commonly used libraries used by Data Scientists include:\n",
    "1. Pandas\n",
    "2. Numpy\n",
    "3. Matplotlib\n",
    "4. Seaboarn\n",
    "5. ggplot\n",
    "6. carot\n",
    "7. sklearn"
   ]
  },
  {
   "cell_type": "markdown",
   "id": "672392e8",
   "metadata": {},
   "source": [
    "###  development environment open source tools used in data science.\n",
    "| Data Science Tools |\n",
    "| -------------------|\n",
    "| Jupyter Notebook |\n",
    "| R Studio |\n",
    "| VS code |"
   ]
  },
  {
   "cell_type": "markdown",
   "id": "a24402b8",
   "metadata": {},
   "source": [
    "### Below are a few examples of evaluating arithmetic expressions in Python"
   ]
  },
  {
   "cell_type": "code",
   "execution_count": 1,
   "id": "96d4070d",
   "metadata": {},
   "outputs": [
    {
     "data": {
      "text/plain": [
       "17"
      ]
     },
     "execution_count": 1,
     "metadata": {},
     "output_type": "execute_result"
    }
   ],
   "source": [
    "# This a simple arithmetic expression to mutiply then add integers\n",
    "(3*4)+5"
   ]
  },
  {
   "cell_type": "code",
   "execution_count": 2,
   "id": "ef5f9780",
   "metadata": {},
   "outputs": [
    {
     "name": "stdout",
     "output_type": "stream",
     "text": [
      "The 200 minutes are 3.3333333333333335 hours\n"
     ]
    }
   ],
   "source": [
    " # This will convert 200 minutes to hours by diving by 60\n",
    "x = 200/60\n",
    "print(f\"The 200 minutes are {x} hours\")"
   ]
  },
  {
   "cell_type": "markdown",
   "id": "6181d7a4",
   "metadata": {},
   "source": [
    "## Author"
   ]
  },
  {
   "cell_type": "markdown",
   "id": "9a833d93",
   "metadata": {},
   "source": [
    "#### Chinmay Kar"
   ]
  }
 ],
 "metadata": {
  "kernelspec": {
   "display_name": "Python 3",
   "language": "python",
   "name": "python3"
  },
  "language_info": {
   "codemirror_mode": {
    "name": "ipython",
    "version": 3
   },
   "file_extension": ".py",
   "mimetype": "text/x-python",
   "name": "python",
   "nbconvert_exporter": "python",
   "pygments_lexer": "ipython3",
   "version": "3.13.6"
  }
 },
 "nbformat": 4,
 "nbformat_minor": 5
}
